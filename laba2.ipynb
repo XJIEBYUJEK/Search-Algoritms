{
 "cells": [
  {
   "cell_type": "code",
   "execution_count": 1,
   "metadata": {},
   "outputs": [],
   "source": [
    "from faker import Faker\n",
    "import numpy.random as npr\n",
    "from dataclasses import dataclass\n",
    "import numpy as np\n",
    "from datetime import datetime\n",
    "from time import sleep\n",
    "from matplotlib import pyplot as plt"
   ]
  },
  {
   "cell_type": "markdown",
   "metadata": {},
   "source": [
    "# Лабораторная работа №2"
   ]
  },
  {
   "cell_type": "markdown",
   "metadata": {},
   "source": [
    "## Вариант 12."
   ]
  },
  {
   "cell_type": "code",
   "execution_count": 2,
   "metadata": {},
   "outputs": [],
   "source": [
    "sizes = (100, 500, 1000, 5000, 10000, 30000, 100000)"
   ]
  },
  {
   "cell_type": "markdown",
   "metadata": {},
   "source": [
    "### 1.  Генератор"
   ]
  },
  {
   "cell_type": "code",
   "execution_count": 3,
   "metadata": {},
   "outputs": [
    {
     "name": "stdout",
     "output_type": "stream",
     "text": [
      "100: ready\n",
      "500: ready\n",
      "1000: ready\n",
      "5000: ready\n",
      "10000: ready\n",
      "30000: ready\n",
      "100000: ready\n"
     ]
    }
   ],
   "source": [
    "clubsList = (\"Россия Спартак-Владикавказ Владикавказ \",\n",
    "\"Россия Рубин Казань \",\n",
    "\"Россия Сочи Сочи \",\n",
    "\"Россия Енисей Красноярск \",\n",
    "\"Россия Звезда Пермь \",\n",
    "\"Россия Балтика Калининград \",\n",
    "\"Россия СКА-Хабаровск Хабаровск \",\n",
    "\"Россия Салют Белгород \",\n",
    "\"Россия Динамо Брянск \",\n",
    "\"Россия Торпедо Владимир \",\n",
    "\"Россия Ротор-Волгоград Волгоград \",\n",
    "\"Россия Факел Воронеж \",\n",
    "\"Россия Металлург Липецк \",\n",
    "\"Россия Химки Химки \",\n",
    "\"Россия Сибирь Новосибирск \",\n",
    "\"Россия Авангард Курск \",\n",
    "\"Россия Ростов Ростов \",\n",
    "\"Россия Крылья-советов Самара \",\n",
    "\"Россия Сокол Саратов \",\n",
    "\"Россия Урал Екатеренбург \",\n",
    "\"Россия Днепр Смоленск \",\n",
    "\"Россия Шинник Ярославль \",\n",
    "\"Россия Динамо  Москва \",\n",
    "\"Россия Зенит Санкт-Петербург \",\n",
    "\"Россия ЦСКА Москва \",\n",
    "\"Россия Спартак Москва \",\n",
    "\"Россия Локомотив Москва \",\n",
    "\"Украина Шахтер Донецк \",\n",
    "\"Украина Динамо Киев \",\n",
    "\"Украина Заря Луганск \",\n",
    "\"Украина Десна Чернигов \",\n",
    "\"Украина Кривбасс Кривой-Рог \",\n",
    "\"Украина Днепр Днепропетровск \",\n",
    "\"Украина Верес Львов \",\n",
    "\"Украина Звезда Кировоград \",\n",
    "\"Украина Черноморец Одесса \",\n",
    "\"Украина Оболонь Киев \",\n",
    "\"Украина Металлист Харьков \",\n",
    "\"Украина Нефтяник-Укрнефть Ахтырка \",\n",
    "\"Украина Сталь Алчевск \",\n",
    "\"Украина Арсенал Киев \",\n",
    "\"Украина Олимпик Донецк \",\n",
    "\"Украина Металлург Донецк \",\n",
    "\"Украина Львов Львов \",\n",
    "\"Украина Металлург Запорожье \",\n",
    "\"Украина Карпаты Львов \",\n",
    "\"Украина Волынь Луцк \",\n",
    "\"Украина Ворскла Полтава \",\n",
    "\"Украина Харьков Харьков \",\n",
    "\"Украина Говерла-Закарпатье Ужгород \")\n",
    "fake = Faker('ru_RU')  \n",
    "for size in sizes:\n",
    "    with open(f'arrays/array{size}.txt', 'w') as file:\n",
    "        for _ in range(size):\n",
    "            # Генерация файла с клубами\n",
    "            file.write('{} {} {} {} {} {}\\n'.format(\n",
    "                # Выбор одного из клубов из заготовленного списка\n",
    "                npr.choice(clubsList),\n",
    "                # Случайный год в диапазоне [1955, 2020)\n",
    "                str(npr.randint(1955, 2020)), \n",
    "                # Случаяная фамилия\n",
    "                fake.last_name_male(),\n",
    "                # Случайное имя\n",
    "                fake.first_name_male(),\n",
    "                # Случайное отчество\n",
    "                fake.middle_name_male(),\n",
    "                # Случайное количество очков от 0 до 65\n",
    "                str(npr.randint(0, 66))\n",
    "            ))\n",
    "        print(f'{size}: ready')"
   ]
  },
  {
   "cell_type": "markdown",
   "metadata": {},
   "source": [
    "### 2. Создание класса и перегрузка его операторов"
   ]
  },
  {
   "cell_type": "code",
   "execution_count": 4,
   "metadata": {},
   "outputs": [],
   "source": [
    "@dataclass\n",
    "class Club:\n",
    "    clubCountry: str\n",
    "    clubName: str\n",
    "    clubCity: str\n",
    "    clubYear: str\n",
    "    coachName: str\n",
    "    clubResult: str\n",
    "    \n",
    "    # Перегрузка оператора '>'\n",
    "    def __gt__(self, other):\n",
    "        if int(self.clubYear) > int(other.clubYear):\n",
    "            return True\n",
    "        elif int(self.clubYear) == int(other.clubYear):\n",
    "            if self.clubCountry > other.clubCountry:\n",
    "                return True\n",
    "            elif self.clubCountry == other.clubCountry:\n",
    "                if int(self.clubResult) > int(other.clubResult):\n",
    "                    return True\n",
    "                elif int(self.clubResult) == int(other.clubResult):\n",
    "                    if self.clubName > other.clubName:\n",
    "                        return True\n",
    "        return False\n",
    "    \n",
    "    # Перегрузка оператора '>='\n",
    "    def __ge__(self, other):\n",
    "        if int(self.clubYear) >= int(other.clubYear):\n",
    "            return True\n",
    "        elif int(self.clubYear) == int(other.clubYear):\n",
    "            if self.clubCountry >= other.clubCountry:\n",
    "                return True\n",
    "            elif self.clubCountry == other.clubCountry:\n",
    "                if int(self.clubResult) >= int(other.clubResult):\n",
    "                    return True\n",
    "                elif int(self.clubResult) == int(other.clubResult):\n",
    "                    if self.clubName >= other.clubName:\n",
    "                        return True\n",
    "        return False   \n",
    "    \n",
    "    # Перегрузка оператора '<'\n",
    "    def __lt__(self, other):\n",
    "        if int(self.clubYear) < int(other.clubYear):\n",
    "            return True\n",
    "        elif int(self.clubYear) == int(other.clubYear):\n",
    "            if self.clubCountry < other.clubCountry:\n",
    "                return True\n",
    "            elif self.clubCountry == other.clubCountry:\n",
    "                if int(self.clubResult) < int(other.clubResult):\n",
    "                    return True\n",
    "                elif int(self.clubResult) == int(other.clubResult):\n",
    "                    if self.clubName < other.clubName:\n",
    "                        return True\n",
    "        return False\n",
    "    \n",
    "    # Перегрузка оператора '<='\n",
    "    def __le__(self, other):\n",
    "        if int(self.clubYear) <= int(other.clubYear):\n",
    "            return True\n",
    "        elif int(self.clubYear) == int(other.clubYear):\n",
    "            if self.clubCountry <= other.clubCountry:\n",
    "                return True\n",
    "            elif self.clubCountry == other.clubCountry:\n",
    "                if int(self.clubResult) <= int(other.clubResult):\n",
    "                    return True\n",
    "                elif int(self.clubResult) == int(other.clubResult):\n",
    "                    if self.clubName <= other.clubName:\n",
    "                        return True\n",
    "        return False\n",
    "     \n",
    "    # Создание метода для перевода класса в тип String    \n",
    "    def toStr(self):\n",
    "        return ' '.join(self.__dict__.values())   \n"
   ]
  },
  {
   "cell_type": "markdown",
   "metadata": {},
   "source": [
    "### 3. Создание неотсортированных масивов"
   ]
  },
  {
   "cell_type": "code",
   "execution_count": 5,
   "metadata": {},
   "outputs": [],
   "source": [
    "\n",
    "\n",
    "clubs = np.empty(len(sizes), dtype=np.ndarray)\n",
    "for i, size in enumerate(sizes):\n",
    "    with open(f'arrays/array{size}.txt') as arr:\n",
    "        clubs[i] = np.empty(size, dtype=Club)\n",
    "        for j, string in enumerate(arr.read()[:-1].split('\\n')):\n",
    "            data = string.split()\n",
    "            clubs[i][j] = Club(\n",
    "                clubCountry = data[0],\n",
    "                clubName = data[1],\n",
    "                clubCity = data[2],\n",
    "                clubYear = data[3],\n",
    "                coachName = ' '.join(data[4:7]),\n",
    "                clubResult = data[7]\n",
    "            )"
   ]
  },
  {
   "cell_type": "markdown",
   "metadata": {},
   "source": [
    "### 4. Описание алгоритма пирамидальной сортировки"
   ]
  },
  {
   "cell_type": "markdown",
   "metadata": {},
   "source": [
    "Пирамидальная сортировка была самой быстрой из всех представленных, поэтому в этом задании я буду использовать именно ее"
   ]
  },
  {
   "cell_type": "code",
   "execution_count": 6,
   "metadata": {},
   "outputs": [],
   "source": [
    "def heapify(data, n, i):  \n",
    "    \"\"\"Пирамидальная сортировка:\n",
    "    Метод heapify для восстановления основного свойства кучи\n",
    "    heapify(data, n, i) -> None\n",
    "    data -- Массив данных \n",
    "    n -- правая граница массива\n",
    "    i -- левая граница массива\n",
    "    \"\"\"\n",
    "    # Иницилизируем корень и дочерние элементы\n",
    "    largest = i                             \n",
    "    l = 2 * i + 1                                                            \n",
    "    r = 2 * i + 2      \n",
    "    # Проверяем существует ли левый дочерний элемент больший, чем корень\n",
    "    if l < n and data[i] < data[l]:         \n",
    "        largest = l                 \n",
    "    # Проверяем существует ли правый дочерний элемент больший, чем корень                                            \n",
    "    if r < n and data[largest] < data[r]:   \n",
    "        largest = r      \n",
    "    # Если корень меньше чем какой либо из дочерних элементов, меняем корень и элементы местами    \n",
    "    if largest != i                        :\n",
    "        data[i],data[largest] = data[largest],data[i]    \n",
    "        # Применяем heapify к корню.\n",
    "        heapify(data, n, largest)               \n",
    "def heapSort(data):  \n",
    "    \"\"\"Пирамидальная сортировка:\n",
    "    Основная функция\n",
    "    heapSort(data) -> data\n",
    "    data -- Массив данных \n",
    "    \"\"\"\n",
    "    n = len(data)    \n",
    "    # Строим max-heap.\n",
    "    for i in range(n, -1, -1):              \n",
    "        heapify(data, n, i)   \n",
    "    # По очереди вынимаем максимальные элементы и помещаем в массив\n",
    "    for i in range(n-1, 0, -1):            \n",
    "        data[i], data[0] = data[0], data[i]                                  \n",
    "        heapify(data, i, 0)         \n",
    "    # Возвращаем отсортированный массив\n",
    "    return data                         "
   ]
  },
  {
   "cell_type": "markdown",
   "metadata": {},
   "source": [
    "### 5. Сортировка масивов"
   ]
  },
  {
   "cell_type": "code",
   "execution_count": 7,
   "metadata": {
    "scrolled": true
   },
   "outputs": [
    {
     "name": "stdout",
     "output_type": "stream",
     "text": [
      "100: ready\n",
      "500: ready\n",
      "1000: ready\n",
      "5000: ready\n",
      "10000: ready\n",
      "30000: ready\n",
      "100000: ready\n"
     ]
    }
   ],
   "source": [
    "for i, size in enumerate(sizes):\n",
    "    clubsCopy = clubs[i].copy()   \n",
    "    clubsSorted = heapSort(clubsCopy)\n",
    "            \n",
    "    with open(f'heap/heap{size}.txt', 'w') as file:\n",
    "         file.write('\\n'.join(map(' '.join, map(lambda e: e.__dict__.values(), clubsSorted))))\n",
    "    print(f'{size}: ready')       "
   ]
  },
  {
   "cell_type": "markdown",
   "metadata": {},
   "source": [
    "### 6. Создание отсортированных масивов"
   ]
  },
  {
   "cell_type": "code",
   "execution_count": 8,
   "metadata": {},
   "outputs": [],
   "source": [
    "clubsSorted = {}\n",
    "for i, size in enumerate(sizes):\n",
    "    with open(f'heap/heap{size}.txt') as arr:\n",
    "        clubsSorted[i] = np.empty(size, dtype=Club)\n",
    "        for j, string in enumerate(arr.read()[:-1].split('\\n')):\n",
    "            data = string.split()\n",
    "            clubsSorted[i][j] = Club(\n",
    "                clubCountry = data[0],\n",
    "                clubName = data[1],\n",
    "                clubCity = data[2],\n",
    "                clubYear = data[3],\n",
    "                coachName = ' '.join(data[4:7]),\n",
    "                clubResult = data[7]\n",
    "            )"
   ]
  },
  {
   "cell_type": "markdown",
   "metadata": {},
   "source": [
    "### 7. Линейный поиск"
   ]
  },
  {
   "cell_type": "code",
   "execution_count": 9,
   "metadata": {},
   "outputs": [],
   "source": [
    "def linearSearch(array, x):                         \n",
    "    \"\"\"Прямой(линейный) поиск\n",
    "    linearSearch(array, x) -> index\n",
    "    array - массив\n",
    "    x - искомый элемент\n",
    "    index - индекс элемента\n",
    "    \"\"\"\n",
    "    for index, element in enumerate(array):         \n",
    "        if element == x:                           \n",
    "            return index\n",
    "    # Если элемент не был найден ничего не возвращает\n",
    "    return None                                     "
   ]
  },
  {
   "cell_type": "markdown",
   "metadata": {},
   "source": [
    "### 8. Бинарный поиск"
   ]
  },
  {
   "cell_type": "code",
   "execution_count": 10,
   "metadata": {},
   "outputs": [],
   "source": [
    "def binarySearch(array, x):                         \n",
    "    \"\"\"Бинарный поиск\n",
    "    binarySearch(array, x) -> index\n",
    "    array - массив\n",
    "    x - искомый элемент\n",
    "    index - индекс элемента\n",
    "    \"\"\"\n",
    "    # Устанавливаем границы и середину поиска\n",
    "    left = 0                                        \n",
    "    right = len(array) - 1                          \n",
    "    middle = right // 2   \n",
    "    # Меняем границы нашего поиска до тех пор, пока искомый элемент не будет находится\n",
    "    # в середине нашего поиска\n",
    "    while array[middle] != x and left < right:  \n",
    "        if x > array[middle]:                       \n",
    "            left = middle + 1                        \n",
    "        else:                                       \n",
    "            right = middle - 1                      \n",
    "        middle = (left+right) // 2   \n",
    "    # Если элемент так и не был найден, функция ничего не возвращает\n",
    "    if left > right:                                \n",
    "        return None   \n",
    "    # Иначе возвращает индекс элемента\n",
    "    else:                                           \n",
    "        return middle                                "
   ]
  },
  {
   "cell_type": "markdown",
   "metadata": {},
   "source": [
    "### 9. Multimap"
   ]
  },
  {
   "cell_type": "code",
   "execution_count": 20,
   "metadata": {},
   "outputs": [],
   "source": [
    "def multimapCreation(array):\n",
    "    \"\"\"Функция для создания multimap\n",
    "    multimapCreation(array) -> dict\n",
    "    array - массив данных\n",
    "    dict - словарь ключ: значение    \n",
    "    \"\"\"\n",
    "    keys = map(lambda x: x.toStr(),array)\n",
    "    multimap = zip(keys, array)           \n",
    "    return dict(multimap)         "
   ]
  },
  {
   "cell_type": "markdown",
   "metadata": {},
   "source": [
    "### 10. Реализация поисков"
   ]
  },
  {
   "cell_type": "code",
   "execution_count": 56,
   "metadata": {},
   "outputs": [
    {
     "name": "stdout",
     "output_type": "stream",
     "text": [
      "\n",
      "Размер: 100.\tЗапись: Россия Металлург Липецк 2011 Муравьев Никита Жоресович 30\n",
      "Прямой поиск.\t\t\tВремя поиска: 0:00:00.000050\n",
      "Бинарный поиск.\t\t\tВремя поиска: 0:00:00.000020\n",
      "Сортировка и бинарный поиск.\tВремя поиска: 0:00:00.001995\n",
      "Поиск по ключу.\t\t\tВремя поиска: 0:00:00.000001\n",
      "\n",
      "Размер: 500.\tЗапись: Украина Харьков Харьков 1960 Уваров Георгий Измаилович 9\n",
      "Прямой поиск.\t\t\tВремя поиска: 0:00:00.000022\n",
      "Бинарный поиск.\t\t\tВремя поиска: 0:00:00.000020\n",
      "Сортировка и бинарный поиск.\tВремя поиска: 0:00:00.009958\n",
      "Поиск по ключу.\t\t\tВремя поиска: 0:00:00.000001\n",
      "\n",
      "Размер: 1000.\tЗапись: Украина Заря Луганск 2018 Мамонтов Азарий Борисович 41\n",
      "Прямой поиск.\t\t\tВремя поиска: 0:00:00.000564\n",
      "Бинарный поиск.\t\t\tВремя поиска: 0:00:00.000027\n",
      "Сортировка и бинарный поиск.\tВремя поиска: 0:00:00.021909\n",
      "Поиск по ключу.\t\t\tВремя поиска: 0:00:00.000002\n",
      "\n",
      "Размер: 5000.\tЗапись: Украина Металлист Харьков 2018 Макаров Анисим Фадеевич 7\n",
      "Прямой поиск.\t\t\tВремя поиска: 0:00:00.002965\n",
      "Бинарный поиск.\t\t\tВремя поиска: 0:00:00.000017\n",
      "Сортировка и бинарный поиск.\tВремя поиска: 0:00:00.150593\n",
      "Поиск по ключу.\t\t\tВремя поиска: 0:00:00.000001\n",
      "\n",
      "Размер: 10000.\tЗапись: Россия Факел Воронеж 1975 Носков Никифор Брониславович 33\n",
      "Прямой поиск.\t\t\tВремя поиска: 0:00:00.001905\n",
      "Бинарный поиск.\t\t\tВремя поиска: 0:00:00.000045\n",
      "Сортировка и бинарный поиск.\tВремя поиска: 0:00:00.341130\n",
      "Поиск по ключу.\t\t\tВремя поиска: 0:00:00.000001\n",
      "\n",
      "Размер: 30000.\tЗапись: Россия Ротор-Волгоград Волгоград 2000 Евдокимов Бажен Жанович 54\n",
      "Прямой поиск.\t\t\tВремя поиска: 0:00:00.012591\n",
      "Бинарный поиск.\t\t\tВремя поиска: 0:00:00.000037\n",
      "Сортировка и бинарный поиск.\tВремя поиска: 0:00:01.225724\n",
      "Поиск по ключу.\t\t\tВремя поиска: 0:00:00.000002\n",
      "\n",
      "Размер: 100000.\tЗапись: Россия Динамо Москва 2001 Матвеев Орест Еремеевич 35\n",
      "Прямой поиск.\t\t\tВремя поиска: 0:00:00.043737\n",
      "Бинарный поиск.\t\t\tВремя поиска: 0:00:00.000063\n",
      "Сортировка и бинарный поиск.\tВремя поиска: 0:00:04.916852\n",
      "Поиск по ключу.\t\t\tВремя поиска: 0:00:00.000002\n"
     ]
    }
   ],
   "source": [
    "linearTiming = []\n",
    "binaryTiming = []\n",
    "sortBinaryTiming = []\n",
    "keyTiming = []\n",
    "for i, size in enumerate(sizes):\n",
    "    clubsSortedCopy = clubsSorted[i].copy()\n",
    "    randomKey = clubsSortedCopy[np.random.randint(size)]\n",
    "    print(f'\\nРазмер: {size}.\\tЗапись:', randomKey.toStr()) \n",
    "    \n",
    "    linearTime = datetime.now() - datetime.now()\n",
    "    binaryTime = datetime.now() - datetime.now()\n",
    "    for _ in range(400):\n",
    "        check = datetime.now()\n",
    "        linearSearch(clubsSortedCopy, randomKey)\n",
    "        linearTime += datetime.now() - check\n",
    "\n",
    "        check = datetime.now()\n",
    "        binarySearch(clubsSortedCopy, randomKey)\n",
    "        binaryTime += datetime.now() - check\n",
    "    \n",
    "    linearTime /= 400\n",
    "    binaryTime /= 400\n",
    "    linearTiming.append(linearTime.microseconds)\n",
    "    binaryTiming.append(binaryTime.microseconds)\n",
    "    print(f'Прямой поиск.\\t\\t\\tВремя поиска: {linearTime}')\n",
    "    print(f'Бинарный поиск.\\t\\t\\tВремя поиска: {binaryTime}')\n",
    "    \n",
    "    clubsCopy = clubs[i].copy()\n",
    "    check = datetime.now()\n",
    "    binarySearch(heapSort(clubsCopy), randomKey)\n",
    "    check = datetime.now() - check\n",
    "    sortBinaryTiming.append(check.microseconds)\n",
    "    print(f'Сортировка и бинарный поиск.\\tВремя поиска: {check}')   \n",
    "    \n",
    "    keyTime = datetime.now() - datetime.now()\n",
    "    multimap = multimapCreation(clubsCopy)\n",
    "    for _ in range(4000):\n",
    "        check = datetime.now()\n",
    "        multimap[randomKey.toStr()]\n",
    "        keyTime += datetime.now() - check\n",
    "    keyTime /= 4000\n",
    "    keyTiming.append(keyTime.microseconds)\n",
    "    print(f'Поиск по ключу.\\t\\t\\tВремя поиска: {keyTime}')\n",
    "   "
   ]
  },
  {
   "cell_type": "markdown",
   "metadata": {},
   "source": [
    "### 11. Построение графиков"
   ]
  },
  {
   "cell_type": "code",
   "execution_count": 57,
   "metadata": {},
   "outputs": [
    {
     "data": {
      "image/png": "[encoded data removed]",
      "text/plain": [
       "<Figure size 1440x720 with 1 Axes>"
      ]
     },
     "metadata": {
      "needs_background": "dark"
     },
     "output_type": "display_data"
    }
   ],
   "source": [
    "plt.rc(('xtick', 'ytick'), color='white')\n",
    "plt.figure(figsize=(20, 10))\n",
    "plt.plot(sizes, linearTiming, label='Прямой поиск')\n",
    "plt.plot(sizes, binaryTiming, label='Бинарный поиск')\n",
    "plt.plot(sizes, sortBinaryTiming, label='Сортировка и бинарный поиск')\n",
    "plt.plot(sizes, keyTiming, label='Поиск по ключу')\n",
    "plt.grid()\n",
    "plt.legend()\n",
    "plt.xscale('log')\n",
    "plt.yscale('log')"
   ]
  },
  {
   "cell_type": "markdown",
   "metadata": {},
   "source": [
    "Из графика видно, что самым эффективным является поиск с помощью MultiMap, затем Бинарный, за ним Линейный и самым медленным является Бинарный с сортировкой"
   ]
  },
  {
   "cell_type": "code",
   "execution_count": null,
   "metadata": {},
   "outputs": [],
   "source": []
  }
 ],
 "metadata": {
  "kernelspec": {
   "display_name": "Python 3",
   "language": "python",
   "name": "python3"
  },
  "language_info": {
   "codemirror_mode": {
    "name": "ipython",
    "version": 3
   },
   "file_extension": ".py",
   "mimetype": "text/x-python",
   "name": "python",
   "nbconvert_exporter": "python",
   "pygments_lexer": "ipython3",
   "version": "3.7.3"
  }
 },
 "nbformat": 4,
 "nbformat_minor": 2
}
