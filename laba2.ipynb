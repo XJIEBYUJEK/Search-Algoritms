{
 "cells": [
  {
   "cell_type": "code",
   "execution_count": 42,
   "metadata": {},
   "outputs": [],
   "source": [
    "from faker import Faker\n",
    "import numpy.random as npr\n",
    "from dataclasses import dataclass\n",
    "import numpy as np\n",
    "from datetime import datetime\n",
    "from time import sleep\n",
    "from matplotlib import pyplot as plt\n",
    "from collections import defaultdict\n",
    "from time import time"
   ]
  },
  {
   "cell_type": "markdown",
   "metadata": {},
   "source": [
    "# Лабораторная работа №2"
   ]
  },
  {
   "cell_type": "markdown",
   "metadata": {},
   "source": [
    "## Вариант 12."
   ]
  },
  {
   "cell_type": "code",
   "execution_count": 2,
   "metadata": {},
   "outputs": [],
   "source": [
    "sizes = (100, 500, 1000, 5000, 10000, 30000, 100000)"
   ]
  },
  {
   "cell_type": "markdown",
   "metadata": {},
   "source": [
    "### 1.  Генератор"
   ]
  },
  {
   "cell_type": "code",
   "execution_count": 3,
   "metadata": {},
   "outputs": [
    {
     "name": "stdout",
     "output_type": "stream",
     "text": [
      "100: ready\n",
      "500: ready\n",
      "1000: ready\n",
      "5000: ready\n",
      "10000: ready\n",
      "30000: ready\n",
      "100000: ready\n"
     ]
    }
   ],
   "source": [
    "clubsList = (\"Россия Спартак-Владикавказ Владикавказ \",\n",
    "\"Россия Рубин Казань \",\n",
    "\"Россия Сочи Сочи \",\n",
    "\"Россия Енисей Красноярск \",\n",
    "\"Россия Звезда Пермь \",\n",
    "\"Россия Балтика Калининград \",\n",
    "\"Россия СКА-Хабаровск Хабаровск \",\n",
    "\"Россия Салют Белгород \",\n",
    "\"Россия Динамо Брянск \",\n",
    "\"Россия Торпедо Владимир \",\n",
    "\"Россия Ротор-Волгоград Волгоград \",\n",
    "\"Россия Факел Воронеж \",\n",
    "\"Россия Металлург Липецк \",\n",
    "\"Россия Химки Химки \",\n",
    "\"Россия Сибирь Новосибирск \",\n",
    "\"Россия Авангард Курск \",\n",
    "\"Россия Ростов Ростов \",\n",
    "\"Россия Крылья-советов Самара \",\n",
    "\"Россия Сокол Саратов \",\n",
    "\"Россия Урал Екатеренбург \",\n",
    "\"Россия Днепр Смоленск \",\n",
    "\"Россия Шинник Ярославль \",\n",
    "\"Россия Динамо  Москва \",\n",
    "\"Россия Зенит Санкт-Петербург \",\n",
    "\"Россия ЦСКА Москва \",\n",
    "\"Россия Спартак Москва \",\n",
    "\"Россия Локомотив Москва \",\n",
    "\"Украина Шахтер Донецк \",\n",
    "\"Украина Динамо Киев \",\n",
    "\"Украина Заря Луганск \",\n",
    "\"Украина Десна Чернигов \",\n",
    "\"Украина Кривбасс Кривой-Рог \",\n",
    "\"Украина Днепр Днепропетровск \",\n",
    "\"Украина Верес Львов \",\n",
    "\"Украина Звезда Кировоград \",\n",
    "\"Украина Черноморец Одесса \",\n",
    "\"Украина Оболонь Киев \",\n",
    "\"Украина Металлист Харьков \",\n",
    "\"Украина Нефтяник-Укрнефть Ахтырка \",\n",
    "\"Украина Сталь Алчевск \",\n",
    "\"Украина Арсенал Киев \",\n",
    "\"Украина Олимпик Донецк \",\n",
    "\"Украина Металлург Донецк \",\n",
    "\"Украина Львов Львов \",\n",
    "\"Украина Металлург Запорожье \",\n",
    "\"Украина Карпаты Львов \",\n",
    "\"Украина Волынь Луцк \",\n",
    "\"Украина Ворскла Полтава \",\n",
    "\"Украина Харьков Харьков \",\n",
    "\"Украина Говерла-Закарпатье Ужгород \")\n",
    "fake = Faker('ru_RU')  \n",
    "for size in sizes:\n",
    "    with open(f'arrays/array{size}.txt', 'w') as file:\n",
    "        for _ in range(size):\n",
    "            # Генерация файла с клубами\n",
    "            file.write('{} {} {} {} {} {}\\n'.format(\n",
    "                # Выбор одного из клубов из заготовленного списка\n",
    "                npr.choice(clubsList),\n",
    "                # Случайный год в диапазоне [1955, 2020)\n",
    "                str(npr.randint(1955, 2020)), \n",
    "                # Случаяная фамилия\n",
    "                fake.last_name_male(),\n",
    "                # Случайное имя\n",
    "                fake.first_name_male(),\n",
    "                # Случайное отчество\n",
    "                fake.middle_name_male(),\n",
    "                # Случайное количество очков от 0 до 65\n",
    "                str(npr.randint(0, 66))\n",
    "            ))\n",
    "        print(f'{size}: ready')"
   ]
  },
  {
   "cell_type": "markdown",
   "metadata": {},
   "source": [
    "### 2. Создание класса и перегрузка его операторов"
   ]
  },
  {
   "cell_type": "code",
   "execution_count": 4,
   "metadata": {},
   "outputs": [],
   "source": [
    "@dataclass\n",
    "class Club:\n",
    "    \"\"\"\n",
    "    Датакласс, отвечающий за инициализацию объектов типа Club.\n",
    "    Инициализация происходит посредством передачи в конструктор класса параметров ниже.\n",
    "    \"\"\"        \n",
    "    clubCountry: str\n",
    "    clubName: str\n",
    "    clubCity: str\n",
    "    clubYear: str\n",
    "    coachName: str\n",
    "    clubResult: str\n",
    "    \n",
    "    # Перегрузка оператора '>'\n",
    "    def __gt__(self, other):\n",
    "       \n",
    "        if self.clubName > other.clubName:\n",
    "            return True\n",
    "        elif self.clubName == other.clubName:\n",
    "            if int(self.clubResult) > int(other.clubResult):\n",
    "                return True\n",
    "            elif int(self.clubResult) == int(other.clubResult):\n",
    "                if self.coachName > other.coachName:\n",
    "                    return True\n",
    "        return False\n",
    "    \n",
    "    # Перегрузка оператора '>='\n",
    "    def __ge__(self, other):\n",
    "        if self.clubName >= other.clubName:\n",
    "            return True\n",
    "        elif self.clubName == other.clubName:\n",
    "            if int(self.clubResult) >= int(other.clubResult):\n",
    "                return True\n",
    "            elif int(self.clubResult) == int(other.clubResult):\n",
    "                if self.coachName >= other.coachName:\n",
    "                    return True\n",
    "        return False \n",
    "    \n",
    "    # Перегрузка оператора '<'\n",
    "    def __lt__(self, other):\n",
    "        if self.clubName < other.clubName:\n",
    "            return True\n",
    "        elif self.clubName == other.clubName:\n",
    "            if int(self.clubResult) < int(other.clubResult):\n",
    "                return True\n",
    "            elif int(self.clubResult) == int(other.clubResult):\n",
    "                if self.coachName < other.coachName:\n",
    "                    return True\n",
    "        return False\n",
    "    \n",
    "    # Перегрузка оператора '<='\n",
    "    def __le__(self, other):\n",
    "        if self.clubName <= other.clubName:\n",
    "            return True\n",
    "        elif self.clubName == other.clubName:\n",
    "            if int(self.clubResult) <= int(other.clubResult):\n",
    "                return True\n",
    "            elif int(self.clubResult) == int(other.clubResult):\n",
    "                if self.coachName <= other.coachName:\n",
    "                    return True\n",
    "        return False\n",
    "     \n",
    "    # Создание метода для перевода класса в тип String    \n",
    "    def toStr(self):\n",
    "        return ' '.join(self.__dict__.values())   \n"
   ]
  },
  {
   "cell_type": "markdown",
   "metadata": {},
   "source": [
    "### 3. Создание неотсортированных масивов"
   ]
  },
  {
   "cell_type": "code",
   "execution_count": 5,
   "metadata": {},
   "outputs": [],
   "source": [
    "\n",
    "\n",
    "clubs = np.empty(len(sizes), dtype=np.ndarray)\n",
    "for i, size in enumerate(sizes):\n",
    "    with open(f'arrays/array{size}.txt') as arr:\n",
    "        clubs[i] = np.empty(size, dtype=Club)\n",
    "        for j, string in enumerate(arr.read()[:-1].split('\\n')):\n",
    "            data = string.split()\n",
    "            clubs[i][j] = Club(\n",
    "                clubCountry = data[0],\n",
    "                clubName = data[1],\n",
    "                clubCity = data[2],\n",
    "                clubYear = data[3],\n",
    "                coachName = ' '.join(data[4:7]),\n",
    "                clubResult = data[7]\n",
    "            )"
   ]
  },
  {
   "cell_type": "markdown",
   "metadata": {},
   "source": [
    "### 4. Описание алгоритма пирамидальной сортировки"
   ]
  },
  {
   "cell_type": "markdown",
   "metadata": {},
   "source": [
    "Пирамидальная сортировка была самой быстрой из всех представленных, поэтому в этом задании я буду использовать именно ее"
   ]
  },
  {
   "cell_type": "code",
   "execution_count": 6,
   "metadata": {},
   "outputs": [],
   "source": [
    "def heapify(data, n, i):  \n",
    "    \"\"\"Пирамидальная сортировка:\n",
    "    Метод heapify для восстановления основного свойства кучи\n",
    "    heapify(data, n, i) -> None\n",
    "    data -- Массив данных \n",
    "    n -- правая граница массива\n",
    "    i -- левая граница массива\n",
    "    \"\"\"\n",
    "    # Иницилизируем корень и дочерние элементы\n",
    "    largest = i                             \n",
    "    l = 2 * i + 1                                                            \n",
    "    r = 2 * i + 2      \n",
    "    # Проверяем существует ли левый дочерний элемент больший, чем корень\n",
    "    if l < n and data[i] < data[l]:         \n",
    "        largest = l                 \n",
    "    # Проверяем существует ли правый дочерний элемент больший, чем корень                                            \n",
    "    if r < n and data[largest] < data[r]:   \n",
    "        largest = r      \n",
    "    # Если корень меньше чем какой либо из дочерних элементов, меняем корень и элементы местами    \n",
    "    if largest != i                        :\n",
    "        data[i],data[largest] = data[largest],data[i]    \n",
    "        # Применяем heapify к корню.\n",
    "        heapify(data, n, largest)               \n",
    "def heapSort(data):  \n",
    "    \"\"\"Пирамидальная сортировка:\n",
    "    Основная функция\n",
    "    heapSort(data) -> data\n",
    "    data -- Массив данных \n",
    "    \"\"\"\n",
    "    n = len(data)    \n",
    "    # Строим max-heap.\n",
    "    for i in range(n, -1, -1):              \n",
    "        heapify(data, n, i)   \n",
    "    # По очереди вынимаем максимальные элементы и помещаем в массив\n",
    "    for i in range(n-1, 0, -1):            \n",
    "        data[i], data[0] = data[0], data[i]                                  \n",
    "        heapify(data, i, 0)         \n",
    "    # Возвращаем отсортированный массив\n",
    "    return data                         "
   ]
  },
  {
   "cell_type": "markdown",
   "metadata": {},
   "source": [
    "### 5. Сортировка масивов"
   ]
  },
  {
   "cell_type": "code",
   "execution_count": 7,
   "metadata": {
    "scrolled": true
   },
   "outputs": [
    {
     "name": "stdout",
     "output_type": "stream",
     "text": [
      "100: ready\n",
      "500: ready\n",
      "1000: ready\n",
      "5000: ready\n",
      "10000: ready\n",
      "30000: ready\n",
      "100000: ready\n"
     ]
    }
   ],
   "source": [
    "for i, size in enumerate(sizes):\n",
    "    clubsCopy = clubs[i].copy()   \n",
    "    clubsSorted = heapSort(clubsCopy)\n",
    "            \n",
    "    with open(f'heap/heap{size}.txt', 'w') as file:\n",
    "         file.write('\\n'.join(map(' '.join, map(lambda e: e.__dict__.values(), clubsSorted))))\n",
    "    print(f'{size}: ready')       "
   ]
  },
  {
   "cell_type": "markdown",
   "metadata": {},
   "source": [
    "### 6. Создание отсортированных масивов"
   ]
  },
  {
   "cell_type": "code",
   "execution_count": 8,
   "metadata": {},
   "outputs": [],
   "source": [
    "clubsSorted = {}\n",
    "for i, size in enumerate(sizes):\n",
    "    with open(f'heap/heap{size}.txt') as arr:\n",
    "        clubsSorted[i] = np.empty(size, dtype=Club)\n",
    "        for j, string in enumerate(arr.read()[:-1].split('\\n')):\n",
    "            data = string.split()\n",
    "            clubsSorted[i][j] = Club(\n",
    "                clubCountry = data[0],\n",
    "                clubName = data[1],\n",
    "                clubCity = data[2],\n",
    "                clubYear = data[3],\n",
    "                coachName = ' '.join(data[4:7]),\n",
    "                clubResult = data[7]\n",
    "            )"
   ]
  },
  {
   "cell_type": "markdown",
   "metadata": {},
   "source": [
    "### 7. Линейный поиск"
   ]
  },
  {
   "cell_type": "code",
   "execution_count": 9,
   "metadata": {},
   "outputs": [],
   "source": [
    "def linearSearch(array, x):                         \n",
    "    \"\"\"Прямой(линейный) поиск\n",
    "    linearSearch(array, x) -> index\n",
    "    array - массив\n",
    "    x - искомый элемент\n",
    "    n - количество найденных элементов\n",
    "    \"\"\"\n",
    "    n = 0\n",
    "    for element in array:         \n",
    "        if element.clubName == x:                           \n",
    "            n += 1\n",
    "    return n                                       "
   ]
  },
  {
   "cell_type": "markdown",
   "metadata": {},
   "source": [
    "### 8. Бинарный поиск"
   ]
  },
  {
   "cell_type": "code",
   "execution_count": 23,
   "metadata": {},
   "outputs": [],
   "source": [
    "def binarySearch(array, x):                         \n",
    "    \"\"\"Бинарный поиск\n",
    "    binarySearch(array, x) -> index\n",
    "    array - массив\n",
    "    x - искомый элемент\n",
    "    n - количество найденных элементов\n",
    "    \"\"\"\n",
    "    n = 0 \n",
    "    # Устанавливаем границы и середину поиска\n",
    "    left = 0                                        \n",
    "    right = len(array) - 1                          \n",
    "    middle = right // 2 \n",
    "    # Меняем границы нашего поиска до тех пор, пока искомый элемент не будет находится\n",
    "    # в середине нашего поиска\n",
    "    while array[middle].clubName != x and left < right:  \n",
    "        if x > array[middle].clubName:                       \n",
    "            left = middle + 1                        \n",
    "        else:                                       \n",
    "            right = middle - 1                      \n",
    "        middle = (left+right) // 2 \n",
    "    # Как только нашли искомый элемент, проверяем соседние элементы\n",
    "    if array[middle].clubName == x:\n",
    "        n = 1\n",
    "        left = middle - 1\n",
    "        while array[left].clubName == x:\n",
    "            n += 1\n",
    "            left -= 1\n",
    "            # Проверка на левую границу массива\n",
    "            if left < 0:\n",
    "                break\n",
    "        right = middle + 1\n",
    "        while array[right].clubName == x:\n",
    "            n += 1\n",
    "            right += 1\n",
    "            # Проверка на правую границу массива\n",
    "            if right > len(array) - 1:\n",
    "                break\n",
    "    return n       "
   ]
  },
  {
   "cell_type": "markdown",
   "metadata": {},
   "source": [
    "### 9. Multimap"
   ]
  },
  {
   "cell_type": "code",
   "execution_count": 30,
   "metadata": {},
   "outputs": [],
   "source": [
    "def multimapCreation(array):\n",
    "    \"\"\"Функция для создания multimap\n",
    "    multimapCreation(array) -> dict\n",
    "    array - массив данных\n",
    "    dict - словарь ключ: значение    \n",
    "    \"\"\"\n",
    "    keys = map(lambda x: x.clubName, array)\n",
    "    keys_array = zip(keys, array) \n",
    "    multimap = defaultdict(list)\n",
    "    for k, v in keys_array:\n",
    "        multimap[k].append(v)    \n",
    "    return multimap        "
   ]
  },
  {
   "cell_type": "markdown",
   "metadata": {},
   "source": [
    "### 10. Реализация поисков"
   ]
  },
  {
   "cell_type": "code",
   "execution_count": 48,
   "metadata": {},
   "outputs": [
    {
     "name": "stdout",
     "output_type": "stream",
     "text": [
      "\n",
      "Размер: 100\tЗапись: СКА-Хабаровск\n",
      "Прямой поиск.\t\t\t2\t0:00:00.000006\n",
      "Бинарный поиск.\t\t\t2\t0:00:00.000004\n",
      "Сортировка и бинарный поиск.\t2\t0:00:00.000997\n",
      "Поиск по ключу.\t\t\t2\t0:00:00.000001\n",
      "\n",
      "Размер: 500\tЗапись: Харьков\n",
      "Прямой поиск.\t\t\t8\t0:00:00.000036\n",
      "Бинарный поиск.\t\t\t8\t0:00:00.000004\n",
      "Сортировка и бинарный поиск.\t8\t0:00:00.005984\n",
      "Поиск по ключу.\t\t\t8\t0:00:00.000001\n",
      "\n",
      "Размер: 1000\tЗапись: Днепр\n",
      "Прямой поиск.\t\t\t28\t0:00:00.000058\n",
      "Бинарный поиск.\t\t\t28\t0:00:00.000012\n",
      "Сортировка и бинарный поиск.\t28\t0:00:00.012939\n",
      "Поиск по ключу.\t\t\t28\t0:00:00.000001\n",
      "\n",
      "Размер: 5000\tЗапись: Сибирь\n",
      "Прямой поиск.\t\t\t101\t0:00:00.000291\n",
      "Бинарный поиск.\t\t\t101\t0:00:00.000040\n",
      "Сортировка и бинарный поиск.\t101\t0:00:00.093745\n",
      "Поиск по ключу.\t\t\t101\t0:00:00.000001\n",
      "\n",
      "Размер: 10000\tЗапись: Сталь\n",
      "Прямой поиск.\t\t\t197\t0:00:00.000642\n",
      "Бинарный поиск.\t\t\t197\t0:00:00.000042\n",
      "Сортировка и бинарный поиск.\t197\t0:00:00.211530\n",
      "Поиск по ключу.\t\t\t197\t0:00:00.000001\n",
      "\n",
      "Размер: 30000\tЗапись: Говерла-Закарпатье\n",
      "Прямой поиск.\t\t\t571\t0:00:00.002226\n",
      "Бинарный поиск.\t\t\t571\t0:00:00.000175\n",
      "Сортировка и бинарный поиск.\t571\t0:00:00.779932\n",
      "Поиск по ключу.\t\t\t571\t0:00:00.000001\n",
      "\n",
      "Размер: 100000\tЗапись: Ростов\n",
      "Прямой поиск.\t\t\t2049\t0:00:00.007590\n",
      "Бинарный поиск.\t\t\t2049\t0:00:00.000598\n",
      "Сортировка и бинарный поиск.\t2049\t0:00:03.205430\n",
      "Поиск по ключу.\t\t\t2049\t0:00:00.000001\n"
     ]
    }
   ],
   "source": [
    "linearTiming = []\n",
    "binaryTiming = []\n",
    "sortBinaryTiming = []\n",
    "keyTiming = []\n",
    "keysList = []\n",
    "for club in clubsList:\n",
    "    keysList.append(club.split(' ')[1])\n",
    "\n",
    "for i, size in enumerate(sizes):\n",
    "    clubsSortedCopy = clubsSorted[i].copy()\n",
    "    randomKey = npr.choice(keysList)\n",
    "    print(f'\\nРазмер: {size}\\tЗапись: {randomKey}') \n",
    "    \n",
    "    linearTime = datetime.now() - datetime.now()\n",
    "    binaryTime = datetime.now() - datetime.now()\n",
    "    linearTime1, binaryTime1 = 0, 0\n",
    "    for _ in range(500):\n",
    "        check = datetime.now()\n",
    "        check1 = time()\n",
    "        linearSearch(clubsSortedCopy, randomKey)\n",
    "        linearTime += datetime.now() - check\n",
    "        linearTime1 += time() - check1\n",
    "\n",
    "        check = datetime.now()\n",
    "        check1 = time()\n",
    "        binarySearch(clubsSortedCopy, randomKey)\n",
    "        binaryTime += datetime.now() - check\n",
    "        binaryTime1 += time() - check1\n",
    "    \n",
    "    linearTime /= 500\n",
    "    binaryTime /= 500\n",
    "    linearTime1 /= 500\n",
    "    binaryTime1 /= 500\n",
    "    linearTiming.append(linearTime1)\n",
    "    binaryTiming.append(binaryTime1)\n",
    "    print(f'Прямой поиск.\\t\\t\\t{linearSearch(clubsSortedCopy, randomKey)}\\t{linearTime}')\n",
    "    print(f'Бинарный поиск.\\t\\t\\t{binarySearch(clubsSortedCopy, randomKey)}\\t{binaryTime}')\n",
    "    \n",
    "    clubsCopy = clubs[i].copy()\n",
    "    check = datetime.now()\n",
    "    check1 = time()\n",
    "    result = binarySearch(heapSort(clubsCopy), randomKey)\n",
    "    check = datetime.now() - check\n",
    "    check1 = time() - check1\n",
    "    sortBinaryTiming.append(check1)\n",
    "    print(f'Сортировка и бинарный поиск.\\t{result}\\t{check}')   \n",
    "    \n",
    "    keyTime1 = 0\n",
    "    keyTime = datetime.now() - datetime.now()\n",
    "    multimap = multimapCreation(clubsCopy)\n",
    "    for _ in range(10000):\n",
    "        check = datetime.now()\n",
    "        check1 = time()\n",
    "        multimap[randomKey]\n",
    "        keyTime1 += time() - check1\n",
    "        keyTime += datetime.now() - check\n",
    "    keyTime /= 10000\n",
    "    keyTime1 /= 10000\n",
    "    keyTiming.append(keyTime1)\n",
    "    if keyTime.microseconds < 1:\n",
    "        print(f'Поиск по ключу.\\t\\t\\t{len(multimap[randomKey])}\\tМеньше, чем одна микросекунда')\n",
    "    else:\n",
    "        print(f'Поиск по ключу.\\t\\t\\t{len(multimap[randomKey])}\\t{keyTime}') \n",
    "    \n",
    "    \n",
    "     \n",
    "   "
   ]
  },
  {
   "cell_type": "markdown",
   "metadata": {},
   "source": [
    "### 11. Построение графиков"
   ]
  },
  {
   "cell_type": "code",
   "execution_count": 49,
   "metadata": {},
   "outputs": [
    {
     "data": {
      "image/png": "[encoded data removed]",
      "text/plain": [
       "<Figure size 1440x720 with 1 Axes>"
      ]
     },
     "metadata": {
      "needs_background": "dark"
     },
     "output_type": "display_data"
    }
   ],
   "source": [
    "plt.rc(('xtick', 'ytick'), color='white')\n",
    "plt.figure(figsize=(20, 10))\n",
    "plt.plot(sizes, linearTiming, label='Прямой поиск')\n",
    "plt.plot(sizes, binaryTiming, label='Бинарный поиск')\n",
    "plt.plot(sizes, sortBinaryTiming, label='Сортировка и бинарный поиск')\n",
    "plt.plot(sizes, keyTiming, label='Поиск по ключу')\n",
    "plt.grid()\n",
    "plt.legend()\n",
    "plt.xscale('log')\n",
    "plt.yscale('log')"
   ]
  },
  {
   "cell_type": "markdown",
   "metadata": {},
   "source": [
    "Из графика видно, что самым эффективным является поиск с помощью MultiMap, затем Бинарный, за ним Линейный и самым медленным является Бинарный с сортировкой"
   ]
  }
 ],
 "metadata": {
  "kernelspec": {
   "display_name": "Python 3",
   "language": "python",
   "name": "python3"
  },
  "language_info": {
   "codemirror_mode": {
    "name": "ipython",
    "version": 3
   },
   "file_extension": ".py",
   "mimetype": "text/x-python",
   "name": "python",
   "nbconvert_exporter": "python",
   "pygments_lexer": "ipython3",
   "version": "3.7.3"
  }
 },
 "nbformat": 4,
 "nbformat_minor": 2
}
